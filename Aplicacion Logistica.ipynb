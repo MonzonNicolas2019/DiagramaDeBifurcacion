{
 "cells": [
  {
   "cell_type": "markdown",
   "metadata": {},
   "source": [
    "# Aplicación logística\n",
    "\n",
    " Robert May, en ```Simple mathematical models with very complicated dynamics``` propuso una aplicación matemática al estudiar sistemas no lineales en el área de biología, en el cuál se explica como esto podría extrapolarse a otras áreas, como la social o la económica. Mitchell Feigenbaum estudia este modelo, que hoy se conoce como aplicación logística.\n",
    "\n",
    " Supongamos que queremos modelar un una población. Partimos de una cantidad $x$ de individuos de la población y proponemos un coeficiente $r$ que represente la tasa combinada entre la mortalidad y la reproducción. Entonces la cantidad de individuos por unidad de tiempo para un instante dado sobre el que se tome ese coeficiente o tasa, podría estar dado por\n",
    "\n",
    "$$ rx $$\n",
    "\n",
    " Por ejemplo, si el individuo estudiado es un conejo, y tenemos que $r = 3$ por unidad de tiempo anual, significaría que el modelo representa que la cantidad de conejos en una población se triplica anualmente.\n",
    "\n",
    " Ahora bien, esto significaría que para un año $n$, tenemos $ r^nx $ individuos, y vemos que crece exponencialmente. Entonces, podemos suponer un máximo teórico, y tener en cuenta las restricciones del entorno. Se propone entonces agregar un término:\n",
    "\n",
    "$$ rx(1-x) $$\n",
    "\n",
    " Para esto, necesitamos que x sea porcentual y tenga dominio $x \\in \\left( 0,1 \\right)$. Entonces cuando la población va creciendo, el termino $1-x$ tiende a cero, y nos sirve para limitar la población. Em general, para cuando llegue el próximo instante de tiempo ($n+1$), sobre el actual ($n$), nos queda:\n",
    "\n",
    "$$ x_{n+1} = rx_n(1-x_n) $$\n",
    "\n",
    "Pero esto también hace que si la población crece mucho en el nuevo termino, el otro lo hago bajar, formando así ciclo retroactivo."
   ]
  },
  {
   "cell_type": "code",
   "execution_count": 9,
   "metadata": {},
   "outputs": [
    {
     "data": {
      "application/vnd.jupyter.widget-view+json": {
       "model_id": "ca0b9454dba74fa2859b8f23b2a7b42c",
       "version_major": 2,
       "version_minor": 0
      },
      "text/plain": [
       "interactive(children=(IntSlider(value=1, description='Tasa de natalidad y mortalidad', max=200, min=1, step=5)…"
      ]
     },
     "metadata": {},
     "output_type": "display_data"
    },
    {
     "data": {
      "text/plain": [
       "<function __main__.preparar_f(r)>"
      ]
     },
     "execution_count": 9,
     "metadata": {},
     "output_type": "execute_result"
    }
   ],
   "source": [
    "import numpy as np\n",
    "import matplotlib.pyplot as plt\n",
    "import ipywidgets as widgets\n",
    "\n",
    "def preparar_f(r):\n",
    "    xn=np.arange(-10,10,0.1)\n",
    "    xnplus1=r*x*(1-x)\n",
    "    plt.plot(xn,xnplus1)\n",
    "    plt.show()\n",
    "\n",
    "widgets.interact(preparar_f,\n",
    "                 r=widgets.IntSlider(min=1, max=200, step=5, value=1, description='Tasa de natalidad y mortalidad'))"
   ]
  },
  {
   "cell_type": "markdown",
   "metadata": {},
   "source": [
    "Vamos a ver varios términos de la sucesión, suponiendo que el comportamiento es anual, $r = 2$ y que nos interesa el comportamiento a largo plazo, para una población que tiene actualmente el 40% de su máximo teórico:\n",
    "\n",
    "$$x_1 = 2*0.4*(1-0.4) = 0.48$$\n",
    "$$x_2 = 2*x_1*(1-x_1) = 0.4992$$\n",
    "$$x_3 = 2*x_2*(1-x_2) = 0.49999872$$\n",
    "$$x_{25} = 2*x_{24}*(1-x_{24}) \\sim 0.5$$\n"
   ]
  },
  {
   "cell_type": "code",
   "execution_count": null,
   "metadata": {},
   "outputs": [],
   "source": []
  },
  {
   "cell_type": "code",
   "execution_count": null,
   "metadata": {},
   "outputs": [],
   "source": []
  }
 ],
 "metadata": {
  "kernelspec": {
   "display_name": "Python 3",
   "language": "python",
   "name": "python3"
  },
  "language_info": {
   "codemirror_mode": {
    "name": "ipython",
    "version": 3
   },
   "file_extension": ".py",
   "mimetype": "text/x-python",
   "name": "python",
   "nbconvert_exporter": "python",
   "pygments_lexer": "ipython3",
   "version": "3.7.6"
  }
 },
 "nbformat": 4,
 "nbformat_minor": 2
}
